{
  "nbformat": 4,
  "nbformat_minor": 0,
  "metadata": {
    "colab": {
      "provenance": [],
      "authorship_tag": "ABX9TyPrwaB3Wy3yImiPL9qU4+l0",
      "include_colab_link": true
    },
    "kernelspec": {
      "name": "python3",
      "display_name": "Python 3"
    },
    "language_info": {
      "name": "python"
    }
  },
  "cells": [
    {
      "cell_type": "markdown",
      "metadata": {
        "id": "view-in-github",
        "colab_type": "text"
      },
      "source": [
        "<a href=\"https://colab.research.google.com/github/ghamawell/silabus-pelatihan-data-Analyst/blob/main/Python_for_Data_Professional_Beginner_Part_1.ipynb\" target=\"_parent\"><img src=\"https://colab.research.google.com/assets/colab-badge.svg\" alt=\"Open In Colab\"/></a>"
      ]
    },
    {
      "cell_type": "markdown",
      "source": [
        "Program pertama: \"Hello World\"\n"
      ],
      "metadata": {
        "id": "yIawcFZousOY"
      }
    },
    {
      "cell_type": "code",
      "execution_count": 1,
      "metadata": {
        "colab": {
          "base_uri": "https://localhost:8080/"
        },
        "id": "PNvG7KwLuqX9",
        "outputId": "7471369e-015e-4160-a813-b3c57c020a7c"
      },
      "outputs": [
        {
          "output_type": "stream",
          "name": "stdout",
          "text": [
            "hello world!\n"
          ]
        }
      ],
      "source": [
        "print (\"hello world!\")"
      ]
    },
    {
      "cell_type": "markdown",
      "source": [
        "Program Pertamaku\n"
      ],
      "metadata": {
        "id": "3DLA0JcTuwKg"
      }
    },
    {
      "cell_type": "code",
      "source": [
        "print(\"Halo Dunia\")\n",
        "print(\"Riset Bahasa Python\")"
      ],
      "metadata": {
        "colab": {
          "base_uri": "https://localhost:8080/"
        },
        "id": "wR3CFoiiu1ZW",
        "outputId": "5ea9d52b-4641-4845-a1d0-09bec8667469"
      },
      "execution_count": 2,
      "outputs": [
        {
          "output_type": "stream",
          "name": "stdout",
          "text": [
            "Halo Dunia\n",
            "Riset Bahasa Python\n"
          ]
        }
      ]
    },
    {
      "cell_type": "markdown",
      "source": [
        "Struktur Program Python - Part 1\n"
      ],
      "metadata": {
        "id": "7jFee-Sju3hs"
      }
    },
    {
      "cell_type": "code",
      "source": [
        "# Statement\n",
        "print(\"Belajar Python menyenangkan\") \n",
        "print(\"Halo Dunia\")\n",
        "print(\"Hello World!\")\n",
        "# Variables & Literals\n",
        "bilangan1 = 5\n",
        "bilangan2 = 10\n",
        "kalimat1 = \"Belajar Bahasa Python\"\n",
        "# Operators\n",
        "print(bilangan1 + bilangan2)"
      ],
      "metadata": {
        "colab": {
          "base_uri": "https://localhost:8080/"
        },
        "id": "tHUSgkHLu8te",
        "outputId": "aebccb25-8f63-496d-8136-c09e90d34cc1"
      },
      "execution_count": 3,
      "outputs": [
        {
          "output_type": "stream",
          "name": "stdout",
          "text": [
            "Belajar Python menyenangkan\n",
            "Halo Dunia\n",
            "Hello World!\n",
            "15\n"
          ]
        }
      ]
    },
    {
      "cell_type": "markdown",
      "source": [
        "Tugas Praktek\n"
      ],
      "metadata": {
        "id": "QLbrwAtmvRQH"
      }
    },
    {
      "cell_type": "code",
      "source": [
        "harga_asli = 20000\n",
        "potongan = 2000\n",
        "harga_setelah_potongan = harga_asli - potongan\n",
        "harga_final = harga_setelah_potongan * 1.1\n",
        "print(harga_final)"
      ],
      "metadata": {
        "colab": {
          "base_uri": "https://localhost:8080/"
        },
        "id": "8_WPcnUQvRst",
        "outputId": "5dee1a91-f77c-459c-fc76-ae28c31a3276"
      },
      "execution_count": 4,
      "outputs": [
        {
          "output_type": "stream",
          "name": "stdout",
          "text": [
            "19800.0\n"
          ]
        }
      ]
    },
    {
      "cell_type": "markdown",
      "source": [
        "Tugas Praktek\n"
      ],
      "metadata": {
        "id": "kB-NGqcTvTb9"
      }
    },
    {
      "cell_type": "code",
      "source": [
        "bilangan1 = 20\n",
        "bilangan2 = 10\n",
        "print(bilangan1 - bilangan2)"
      ],
      "metadata": {
        "colab": {
          "base_uri": "https://localhost:8080/"
        },
        "id": "hdiQHo8Xvlg2",
        "outputId": "dcfb5937-7dae-4c1a-efe6-399a5f66be0b"
      },
      "execution_count": 5,
      "outputs": [
        {
          "output_type": "stream",
          "name": "stdout",
          "text": [
            "10\n"
          ]
        }
      ]
    },
    {
      "cell_type": "markdown",
      "source": [
        "Sequence Type – Part 1"
      ],
      "metadata": {
        "id": "LyPrNmFov3U7"
      }
    },
    {
      "cell_type": "code",
      "source": [
        "contoh_list = [1, 'dua', 3, 4.0, 5]\n",
        "print(contoh_list[0])\n",
        "print(contoh_list[3])\n",
        "contoh_list = [1, 'dua', 3, 4.0, 5]\n",
        "contoh_list[3] = 'empat'\n",
        "print(contoh_list[3])"
      ],
      "metadata": {
        "colab": {
          "base_uri": "https://localhost:8080/"
        },
        "id": "voKGeb7Sv5Xb",
        "outputId": "68adfbf8-eabb-4ec1-a747-5b43d39eeaa4"
      },
      "execution_count": 6,
      "outputs": [
        {
          "output_type": "stream",
          "name": "stdout",
          "text": [
            "1\n",
            "4.0\n",
            "empat\n"
          ]
        }
      ]
    },
    {
      "cell_type": "markdown",
      "source": [
        "Sequence Type – Part 2"
      ],
      "metadata": {
        "id": "gLMXBXN9v_ft"
      }
    },
    {
      "cell_type": "code",
      "source": [
        "contoh_tuple = ('desember','Februari','Maret','April')\n",
        "print(contoh_tuple[0])\n"
      ],
      "metadata": {
        "colab": {
          "base_uri": "https://localhost:8080/"
        },
        "id": "JYQtuvxOwFJq",
        "outputId": "14f4b07e-bfdb-4615-cb90-246ee012988b"
      },
      "execution_count": 7,
      "outputs": [
        {
          "output_type": "stream",
          "name": "stdout",
          "text": [
            "desember\n"
          ]
        }
      ]
    },
    {
      "cell_type": "markdown",
      "source": [
        "Set Type"
      ],
      "metadata": {
        "id": "XvUKXy9_wRCM"
      }
    },
    {
      "cell_type": "code",
      "source": [
        "contoh_list = ['Dewi','Budi','Cici','Linda','Cici'] \n",
        "print(contoh_list)\n",
        "contoh_set = {'Dewi','Budi','Cici','Linda','Cici'}\n",
        "print(contoh_set)\n",
        "contoh_frozen_set = ({'Dewi','Budi','Cici','Linda','Cici'})\n",
        "print(contoh_frozen_set)"
      ],
      "metadata": {
        "colab": {
          "base_uri": "https://localhost:8080/"
        },
        "id": "QUVbbyuRwTdQ",
        "outputId": "8adf4da8-9fb4-4978-cac4-7258432b6ae8"
      },
      "execution_count": 8,
      "outputs": [
        {
          "output_type": "stream",
          "name": "stdout",
          "text": [
            "['Dewi', 'Budi', 'Cici', 'Linda', 'Cici']\n",
            "{'Dewi', 'Cici', 'Linda', 'Budi'}\n",
            "{'Dewi', 'Cici', 'Linda', 'Budi'}\n"
          ]
        }
      ]
    },
    {
      "cell_type": "markdown",
      "source": [
        "Mapping Type"
      ],
      "metadata": {
        "id": "24K9Z3qUwV-K"
      }
    },
    {
      "cell_type": "code",
      "source": [
        "person = {'nama': 'John Doe', 'pekerjaan': 'Programmer'}\n",
        "print(person['nama'])\n",
        "print(person['pekerjaan'])"
      ],
      "metadata": {
        "colab": {
          "base_uri": "https://localhost:8080/"
        },
        "id": "qxoPnm9iwYPo",
        "outputId": "a2fce7a7-d976-487b-d52d-247289e17bd2"
      },
      "execution_count": 9,
      "outputs": [
        {
          "output_type": "stream",
          "name": "stdout",
          "text": [
            "John Doe\n",
            "Programmer\n"
          ]
        }
      ]
    },
    {
      "cell_type": "markdown",
      "source": [
        "Tugas Praktek"
      ],
      "metadata": {
        "id": "O5NUOtvLwe5S"
      }
    },
    {
      "cell_type": "code",
      "source": [
        "sepatu = {\"nama\": \"Sepatu Niko\", \"harga\": 150000, \"diskon\": 30000} \n",
        "baju = {\"nama\": \"Baju Unikloh\", \"harga\": 80000, \"diskon\": 8000} \n",
        "celana = {\"nama\": \"Celana Lepis\", \"harga\": 200000, \"diskon\": 60000}"
      ],
      "metadata": {
        "id": "ei2mrRqEwfET"
      },
      "execution_count": 11,
      "outputs": []
    },
    {
      "cell_type": "markdown",
      "source": [
        "Tugas Praktek"
      ],
      "metadata": {
        "id": "f1ICgYuJwiPF"
      }
    },
    {
      "cell_type": "code",
      "source": [
        "sepatu = {\"nama\": \"Sepatu Niko\", \"harga\": 150000, \"diskon\": 30000} \n",
        "baju = {\"nama\": \"Baju Unikloh\", \"harga\": 80000, \"diskon\": 8000} \n",
        "celana = {\"nama\": \"Celana Lepis\", \"harga\": 200000, \"diskon\": 60000} \n",
        "daftar_belanja = [sepatu, baju, celana]"
      ],
      "metadata": {
        "id": "6vW0qC91wnwK"
      },
      "execution_count": 12,
      "outputs": []
    },
    {
      "cell_type": "markdown",
      "source": [
        "Tugas Praktek"
      ],
      "metadata": {
        "id": "jYpDHXCGwqg6"
      }
    },
    {
      "cell_type": "code",
      "source": [
        "# Data yang dinyatakan ke dalam dictionary\n",
        "sepatu = {\"nama\": \"Sepatu Niko\", \"harga\": 150000, \"diskon\": 30000} \n",
        "baju = {\"nama\": \"Baju Unikloh\", \"harga\": 80000, \"diskon\": 8000} \n",
        "celana = {\"nama\": \"Celana Lepis\", \"harga\": 200000, \"diskon\": 60000}\n",
        "# Hitunglah harga masing-masing data setelah dikurangi diskon\n",
        "harga_sepatu = sepatu[\"harga\"] - sepatu[\"diskon\"] \n",
        "harga_baju = baju[\"harga\"] - baju[\"diskon\"]\n",
        "harga_celana = celana[\"harga\"] - celana[\"diskon\"]\n",
        "# Hitung harga total\n",
        "total_harga = harga_sepatu + harga_baju + harga_celana\n",
        "# Hitung harga kena pajak\n",
        "total_pajak = total_harga * 0.1\n",
        "# Cetak total_harga + total_pajak\n",
        "print(total_harga + total_pajak)"
      ],
      "metadata": {
        "colab": {
          "base_uri": "https://localhost:8080/"
        },
        "id": "Vs94haszw61G",
        "outputId": "bafb29a9-334c-446f-92d6-da4f2ea59913"
      },
      "execution_count": 13,
      "outputs": [
        {
          "output_type": "stream",
          "name": "stdout",
          "text": [
            "365200.0\n"
          ]
        }
      ]
    },
    {
      "cell_type": "code",
      "source": [
        "bil1 = 5\n",
        "bil2 = bil1 // 2\n",
        "print(bil2)"
      ],
      "metadata": {
        "colab": {
          "base_uri": "https://localhost:8080/"
        },
        "id": "6LPZ2oHpxim8",
        "outputId": "e945bebe-36be-487b-a374-ef4f79c546d3"
      },
      "execution_count": 14,
      "outputs": [
        {
          "output_type": "stream",
          "name": "stdout",
          "text": [
            "2\n"
          ]
        }
      ]
    },
    {
      "cell_type": "code",
      "source": [
        "bil1 = 5\n",
        "bil2 = bil1 % 2\n",
        "bil1 *= bil2\n",
        "print(bil1)"
      ],
      "metadata": {
        "colab": {
          "base_uri": "https://localhost:8080/"
        },
        "id": "tpiEAdV3x3td",
        "outputId": "7056f380-926f-4ca2-aa9c-ffb9f512e2c6"
      },
      "execution_count": 15,
      "outputs": [
        {
          "output_type": "stream",
          "name": "stdout",
          "text": [
            "5\n"
          ]
        }
      ]
    },
    {
      "cell_type": "code",
      "source": [
        "bil1 = 5\n",
        "bil2 = bil1 // 2\n",
        "hasil = ___ \n",
        "print(hasil)"
      ],
      "metadata": {
        "colab": {
          "base_uri": "https://localhost:8080/"
        },
        "id": "C2kB_Ah8yR-q",
        "outputId": "56d8093a-479b-4100-9649-db55d31f71e8"
      },
      "execution_count": 17,
      "outputs": [
        {
          "output_type": "stream",
          "name": "stdout",
          "text": [
            "\n"
          ]
        }
      ]
    },
    {
      "cell_type": "markdown",
      "source": [
        "Nilai Prioritas Operator dalam Python – Part 1"
      ],
      "metadata": {
        "id": "uCg6A-xbysXF"
      }
    },
    {
      "cell_type": "code",
      "source": [
        "# Kode awal\n",
        "total_harga = 150000\n",
        "potongan_harga = 0.3\n",
        "pajak = 0.1 # pajak dalam persen ~ 10%\n",
        "harga_bayar = 1 - potongan_harga # baris pertama\n",
        "harga_bayar *= total_harga # baris kedua\n",
        "pajak_bayar = pajak * harga_bayar # baris ketiga\n",
        "harga_bayar += pajak_bayar # baris ke-4\n",
        "print(\"Kode awal - harga_bayar=\", harga_bayar)\n",
        "# Penyederhanaan baris kode dengan menerapkan prioritas operator\n",
        "total_harga = 150000\n",
        "potongan_harga = 0.3\n",
        "pajak = 0.1 # pajak dalam persen ~ 10%\n",
        "harga_bayar = (1 - potongan_harga) * total_harga #baris pertama \n",
        "harga_bayar += harga_bayar * pajak # baris kedua\n",
        "print(\"Penyederhanaan kode - harga_bayar=\", harga_bayar)"
      ],
      "metadata": {
        "colab": {
          "base_uri": "https://localhost:8080/"
        },
        "id": "d91SYRvBysv5",
        "outputId": "8def0f40-8e81-4ee5-c425-1967e17235da"
      },
      "execution_count": 18,
      "outputs": [
        {
          "output_type": "stream",
          "name": "stdout",
          "text": [
            "Kode awal - harga_bayar= 115500.0\n",
            "Penyederhanaan kode - harga_bayar= 115500.0\n"
          ]
        }
      ]
    },
    {
      "cell_type": "code",
      "source": [
        "bilangan = (5 % 3 ** 2) + (3 + 2 * 2) * (4 - 2) \n",
        "print(bilangan)"
      ],
      "metadata": {
        "colab": {
          "base_uri": "https://localhost:8080/"
        },
        "id": "qCh_3Ir6y5wb",
        "outputId": "8cceae25-695d-4b47-e6ab-5182a3366d8c"
      },
      "execution_count": 19,
      "outputs": [
        {
          "output_type": "stream",
          "name": "stdout",
          "text": [
            "19\n"
          ]
        }
      ]
    },
    {
      "cell_type": "markdown",
      "source": [
        "Tugas Praktek\n"
      ],
      "metadata": {
        "id": "AjTXURYTy9Ug"
      }
    },
    {
      "cell_type": "code",
      "source": [
        "sepatu = { \"nama\" : \"Sepatu Niko\", \"harga\": 150000, \"diskon\": 30000 }\n",
        "baju = { \"nama\" : \"Baju Unikloh\", \"harga\": 80000, \"diskon\": 8000 }\n",
        "celana = { \"nama\" : \"Celana Lepis\", \"harga\": 200000, \"diskon\": 60000 }\n",
        "harga_sepatu = sepatu[\"harga\"] - sepatu[\"diskon\"]\n",
        "harga_baju = baju[\"harga\"] - baju[\"diskon\"]\n",
        "harga_celana = celana[\"harga\"] - celana[\"diskon\"]\n",
        "total_harga = (harga_sepatu + harga_baju + harga_celana) * 1.1 \n",
        "print(total_harga)"
      ],
      "metadata": {
        "colab": {
          "base_uri": "https://localhost:8080/"
        },
        "id": "kW8YyBKYy-32",
        "outputId": "f71d6146-71de-4b31-f06f-d38ef5613fd0"
      },
      "execution_count": 20,
      "outputs": [
        {
          "output_type": "stream",
          "name": "stdout",
          "text": [
            "365200.00000000006\n"
          ]
        }
      ]
    },
    {
      "cell_type": "markdown",
      "source": [
        "Python Conditioning for Decision – Part 2\n"
      ],
      "metadata": {
        "id": "AbODWYFszB3b"
      }
    },
    {
      "cell_type": "code",
      "source": [
        "\n",
        "\t# Statement if\n",
        "x = 4\n",
        "if x % 2 == 0: # jika sisa bagi x dengan 2 sama dengan 0\n",
        "    print(\"x habis dibagi dua\") # statemen aksi lebih menjorok ke dalam\n",
        "# Statement if ... elif ... else\n",
        "x = 7\n",
        "if x % 2 == 0: # jika sisa bagi x dengan 2 sama dengan 0\n",
        "    print(\"x habis dibagi dua\")\n",
        "elif x % 3 == 0: # jika sisa bagi x dengan 3 sama dengan 0\n",
        "    print(\"x habis dibagi tiga\")\n",
        "elif x % 5 == 0: # jika sisa bagi x dengan 5 sama dengan 0\n",
        "    print(\"x habis dibagi lima\")\n",
        "else:\n",
        "    print(\"x tidak habis dibagi dua, tiga ataupun lima\")"
      ],
      "metadata": {
        "colab": {
          "base_uri": "https://localhost:8080/"
        },
        "id": "4nEbOjnhzGit",
        "outputId": "baf1dd21-dfe6-49cd-8856-fb81b957007f"
      },
      "execution_count": 21,
      "outputs": [
        {
          "output_type": "stream",
          "name": "stdout",
          "text": [
            "x habis dibagi dua\n",
            "x tidak habis dibagi dua, tiga ataupun lima\n"
          ]
        }
      ]
    },
    {
      "cell_type": "markdown",
      "source": [
        "Python Conditioning for Decision – Part 3\n"
      ],
      "metadata": {
        "id": "Dke6-QG1zKSK"
      }
    },
    {
      "cell_type": "code",
      "source": [
        "jam = 13\n",
        "if jam >= 5 and jam < 12: # selama jam di antara 5 s.d. 12\n",
        "    print(\"Selamat pagi!\")\n",
        "elif jam >= 12 and jam < 17: # selama jam di antara 12 s.d. 17\n",
        "    print(\"Selamat siang!\")\n",
        "elif jam>= 17 and jam < 19: # selama jam di antara 17 s.d. 19\n",
        "    print(\"Selamat sore!\")\n",
        "else: # selain kondisi di atas\n",
        "    print(\"Selamat malam!\")"
      ],
      "metadata": {
        "colab": {
          "base_uri": "https://localhost:8080/"
        },
        "id": "tekeW29czOf8",
        "outputId": "af4efc5c-ff62-45ca-f177-9430b96ecc07"
      },
      "execution_count": 22,
      "outputs": [
        {
          "output_type": "stream",
          "name": "stdout",
          "text": [
            "Selamat siang!\n"
          ]
        }
      ]
    },
    {
      "cell_type": "markdown",
      "source": [
        "Tugas Praktek\n"
      ],
      "metadata": {
        "id": "HkxVS93MzQDn"
      }
    },
    {
      "cell_type": "code",
      "source": [
        "tagihan_ke = 'Mr. Yoyo'\n",
        "warehousing = { 'harga_harian': 1000000, 'total_hari':15 } \n",
        "cleansing = { 'harga_harian': 1500000, 'total_hari':10 } \n",
        "integration = { 'harga_harian':2000000, 'total_hari':15 } \n",
        "transform = { 'harga_harian':2500000, 'total_hari':10 }\n",
        "sub_warehousing = warehousing['harga_harian'] * warehousing['total_hari']\n",
        "sub_cleansing = cleansing['harga_harian'] * cleansing['total_hari'] \n",
        "sub_integration = integration['harga_harian'] * integration['total_hari'] \n",
        "sub_transform = transform['harga_harian'] * transform['total_hari']\n",
        "total_harga = sub_warehousing + sub_cleansing + sub_integration + sub_transform\n",
        "print(\"Tagihan kepada:\") \n",
        "print(tagihan_ke)\n",
        "print(\"Selamat pagi, anda harus membayar tagihan sebesar:\") \n",
        "print(total_harga)"
      ],
      "metadata": {
        "colab": {
          "base_uri": "https://localhost:8080/"
        },
        "id": "iyBWaIMwzVPQ",
        "outputId": "154f2b8d-2a05-4f41-89a8-a3c5a64f2d37"
      },
      "execution_count": 23,
      "outputs": [
        {
          "output_type": "stream",
          "name": "stdout",
          "text": [
            "Tagihan kepada:\n",
            "Mr. Yoyo\n",
            "Selamat pagi, anda harus membayar tagihan sebesar:\n",
            "85000000\n"
          ]
        }
      ]
    },
    {
      "cell_type": "markdown",
      "source": [
        "Tugas Praktek\n"
      ],
      "metadata": {
        "id": "F6SVsCH0zdwI"
      }
    },
    {
      "cell_type": "code",
      "source": [
        "jam = 17\n",
        "tagihan_ke = 'Mr. Yoyo'\n",
        "warehousing = { 'harga_harian': 1000000, 'total_hari':15 } \n",
        "cleansing = { 'harga_harian': 1500000, 'total_hari':10 } \n",
        "integration = { 'harga_harian':2000000, 'total_hari':15 } \n",
        "transform = { 'harga_harian':2500000, 'total_hari':10 }\n",
        "sub_warehousing = warehousing['harga_harian']*warehousing['total_hari'] \n",
        "sub_cleansing = cleansing['harga_harian']*cleansing['total_hari'] \n",
        "sub_integration = integration['harga_harian']*integration['total_hari'] \n",
        "sub_transform = transform['harga_harian']*transform['total_hari']\n",
        "total_harga = sub_warehousing+sub_cleansing+sub_integration+sub_transform\n",
        "print(\"Tagihan kepada:\")\n",
        "print(tagihan_ke)\n",
        "if jam > 19:\n",
        "    print(\"Selamat malam, anda harus membayar tagihan sebesar:\")\n",
        "elif jam > 17:\n",
        "    print(\"Selamat sore, anda harus membayar tagihan sebesar:\") \n",
        "elif jam > 12:\n",
        "    print(\"Selamat siang, anda harus membayar tagihan sebesar:\")\n",
        "else:\n",
        "    print(\"Selamat pagi, anda harus membayar tagihan sebesar:\") \n",
        "print(total_harga)"
      ],
      "metadata": {
        "colab": {
          "base_uri": "https://localhost:8080/"
        },
        "id": "pCa-qHA_zhA_",
        "outputId": "8dd73327-a2cc-42f8-a8f2-1bd919cbb3da"
      },
      "execution_count": 24,
      "outputs": [
        {
          "output_type": "stream",
          "name": "stdout",
          "text": [
            "Tagihan kepada:\n",
            "Mr. Yoyo\n",
            "Selamat siang, anda harus membayar tagihan sebesar:\n",
            "85000000\n"
          ]
        }
      ]
    },
    {
      "cell_type": "markdown",
      "source": [
        "Python while loops – Part 1\n"
      ],
      "metadata": {
        "id": "cFManqHzzk-h"
      }
    },
    {
      "cell_type": "code",
      "source": [
        "# Tagihan\n",
        "tagihan = [50000, 75000, 125000, 300000, 200000]\n",
        "# Tanpa menggunakan while loop\n",
        "total_tagihan = tagihan[0] + tagihan[1] + tagihan[2] + tagihan[3] + tagihan[4]\n",
        "print(total_tagihan)\n",
        "# Dengan menggunakan while loop\n",
        "i = 0 # sebuah variabel untuk mengakses setiap elemen tagihan satu per satu\n",
        "jumlah_tagihan = len(tagihan) # panjang (jumlah elemen dalam) list tagihan\n",
        "total_tagihan = 0 # mula-mula, set total_tagihan ke 0\n",
        "while i < jumlah_tagihan: # selama nilai i kurang dari jumlah_tagihan\n",
        "    total_tagihan += tagihan[i] # tambahkan tagihan[i] ke total_tagihan\n",
        "    i += 1 # tambahkan nilai i dengan 1 untuk memproses tagihan selanjutnya.\n",
        "print(total_tagihan)"
      ],
      "metadata": {
        "colab": {
          "base_uri": "https://localhost:8080/"
        },
        "id": "4VqcCxhxzqXo",
        "outputId": "b332bbc0-fa31-44bc-94b8-718135416c6d"
      },
      "execution_count": 25,
      "outputs": [
        {
          "output_type": "stream",
          "name": "stdout",
          "text": [
            "750000\n",
            "750000\n"
          ]
        }
      ]
    },
    {
      "cell_type": "markdown",
      "source": [
        "Python while loops – Part 2\n"
      ],
      "metadata": {
        "id": "XgQ9B8Dzztdr"
      }
    },
    {
      "cell_type": "code",
      "source": [
        "tagihan = [50000, 75000, -150000, 125000, 300000, -50000, 200000]\n",
        "i = 0\n",
        "jumlah_tagihan = len(tagihan)\n",
        "total_tagihan = 0\n",
        "while i < jumlah_tagihan:\n",
        "    # jika terdapat tagihan ke-i yang bernilai minus (di bawah nol),\n",
        "    # pengulangan akan dihentikan\n",
        "    if tagihan[i] < 0:\n",
        "        total_tagihan = -1\n",
        "        print(\"terdapat angka minus dalam tagihan, perhitungan dihentikan!\")\n",
        "        break\n",
        "    total_tagihan += tagihan[i]\n",
        "    i += 1\n",
        "print(total_tagihan)"
      ],
      "metadata": {
        "colab": {
          "base_uri": "https://localhost:8080/"
        },
        "id": "gYncoj8Kzwby",
        "outputId": "558c7ec5-b408-4d38-b4ab-d35e935863d8"
      },
      "execution_count": 26,
      "outputs": [
        {
          "output_type": "stream",
          "name": "stdout",
          "text": [
            "terdapat angka minus dalam tagihan, perhitungan dihentikan!\n",
            "-1\n"
          ]
        }
      ]
    },
    {
      "cell_type": "markdown",
      "source": [
        "Python while loops – Part 3\n"
      ],
      "metadata": {
        "id": "1z5tWmNWzx8L"
      }
    },
    {
      "cell_type": "code",
      "source": [
        "tagihan = [50000, 75000, -150000, 125000, 300000, -50000, 200000]\n",
        "i = 0\n",
        "jumlah_tagihan = len(tagihan)\n",
        "total_tagihan = 0\n",
        "while i < jumlah_tagihan:\n",
        "    # jika terdapat tagihan ke-i yang bernilai minus (di bawah nol),\n",
        "    # abaikan tagihan ke-i dan lanjutkan ke tagihan berikutnya\n",
        "    if tagihan[i] < 0:\n",
        "        i += 1\n",
        "        continue\n",
        "    total_tagihan += tagihan[i]\n",
        "    i += 1\n",
        "print(total_tagihan)"
      ],
      "metadata": {
        "colab": {
          "base_uri": "https://localhost:8080/"
        },
        "id": "Qk2yNJZjz2Ef",
        "outputId": "dcc928c2-6a85-49b7-c826-4203cc526065"
      },
      "execution_count": 27,
      "outputs": [
        {
          "output_type": "stream",
          "name": "stdout",
          "text": [
            "750000\n"
          ]
        }
      ]
    },
    {
      "cell_type": "markdown",
      "source": [
        "Python for loops – Part 1\n"
      ],
      "metadata": {
        "id": "sPn6sn_Zz6i-"
      }
    },
    {
      "cell_type": "code",
      "source": [
        "list_tagihan = [50000, 75000, -150000, 125000, 300000, -50000, 200000]\n",
        "total_tagihan = 0\n",
        "for tagihan in list_tagihan: # untuk setiap tagihan dalam list_tagihan\n",
        "    total_tagihan += tagihan # tambahkan tagihan ke total_tagihan\n",
        "print(total_tagihan)"
      ],
      "metadata": {
        "colab": {
          "base_uri": "https://localhost:8080/"
        },
        "id": "c-o-7hgY0Aks",
        "outputId": "8fd6e965-3bba-41d1-80e1-707177190036"
      },
      "execution_count": 28,
      "outputs": [
        {
          "output_type": "stream",
          "name": "stdout",
          "text": [
            "550000\n"
          ]
        }
      ]
    },
    {
      "cell_type": "markdown",
      "source": [
        "Python for loops – Part 2\n"
      ],
      "metadata": {
        "id": "SVnj2xxr0GfX"
      }
    },
    {
      "cell_type": "code",
      "source": [
        "list_tagihan = [50000, 75000, -150000, 125000, 300000, -50000, 200000]\n",
        "\n",
        "# For loops with break\n",
        "print(\"For loops with break\")\n",
        "total_tagihan_break = 0\n",
        "for tagihan in list_tagihan:\n",
        "    if tagihan < 0:\n",
        "        print(\"Terdapat angka minus dalam tagihan, perhitungan dihentikan!\")\n",
        "        break\n",
        "    total_tagihan_break += tagihan\n",
        "print(\"Total tagihan %d.\" % total_tagihan_break)\n",
        "print()\n",
        "\n",
        "# For loops with continue\n",
        "print(\"For loops with continue\")\n",
        "total_tagihan_continue = 0\n",
        "for tagihan in list_tagihan:\n",
        "    if tagihan < 0:\n",
        "        print(\"Terdapat angka minus dalam tagihan, tagihan %d dilewati!\" % tagihan)\n",
        "        continue\n",
        "    total_tagihan_continue += tagihan\n",
        "print(\"Total tagihan %d.\" % total_tagihan_continue)"
      ],
      "metadata": {
        "colab": {
          "base_uri": "https://localhost:8080/"
        },
        "id": "j_fY2nJd0G1d",
        "outputId": "1d323b90-edbd-42fd-ffd2-4b1dc7e2e1e5"
      },
      "execution_count": 29,
      "outputs": [
        {
          "output_type": "stream",
          "name": "stdout",
          "text": [
            "For loops with break\n",
            "Terdapat angka minus dalam tagihan, perhitungan dihentikan!\n",
            "Total tagihan 125000.\n",
            "\n",
            "For loops with continue\n",
            "Terdapat angka minus dalam tagihan, tagihan -150000 dilewati!\n",
            "Terdapat angka minus dalam tagihan, tagihan -50000 dilewati!\n",
            "Total tagihan 750000.\n"
          ]
        }
      ]
    },
    {
      "cell_type": "markdown",
      "source": [
        "Python for loops – Part 3\n"
      ],
      "metadata": {
        "id": "SnQcc25-0U05"
      }
    },
    {
      "cell_type": "code",
      "source": [
        "list_daerah = ['Malang', 'Palembang', 'Medan']\n",
        "list_buah = ['Apel', 'Duku', 'Jeruk']\n",
        "for nama_daerah in list_daerah:\n",
        "    for nama_buah in list_buah:\n",
        "        print(nama_buah+\" \"+nama_daerah)"
      ],
      "metadata": {
        "colab": {
          "base_uri": "https://localhost:8080/"
        },
        "id": "DitlggII0Vvh",
        "outputId": "76eb571b-b515-44dc-8ba2-b08493f55b8e"
      },
      "execution_count": 30,
      "outputs": [
        {
          "output_type": "stream",
          "name": "stdout",
          "text": [
            "Apel Malang\n",
            "Duku Malang\n",
            "Jeruk Malang\n",
            "Apel Palembang\n",
            "Duku Palembang\n",
            "Jeruk Palembang\n",
            "Apel Medan\n",
            "Duku Medan\n",
            "Jeruk Medan\n"
          ]
        }
      ]
    },
    {
      "cell_type": "markdown",
      "source": [
        "Tugas Praktek\n"
      ],
      "metadata": {
        "id": "mLb0CgwE0jBk"
      }
    },
    {
      "cell_type": "code",
      "source": [
        "list_cash_flow = [\n",
        "2500000, 5000000, -1000000, -2500000, 5000000, 10000000,\n",
        "-5000000, 7500000, 10000000, -1500000, 25000000, -2500000\n",
        "]\n",
        "total_pengeluaran, total_pemasukan = 0, 0\n",
        "for dana in list_cash_flow :\n",
        "    if dana > 0:\n",
        "        total_pemasukan += dana\n",
        "    else:\n",
        "        total_pengeluaran += dana\n",
        "total_pengeluaran *= -1\n",
        "print(total_pengeluaran) \n",
        "print(total_pemasukan)"
      ],
      "metadata": {
        "colab": {
          "base_uri": "https://localhost:8080/"
        },
        "id": "JpGlo-fC0k0H",
        "outputId": "a181f048-bb2c-4773-d193-46024f9b0135"
      },
      "execution_count": 31,
      "outputs": [
        {
          "output_type": "stream",
          "name": "stdout",
          "text": [
            "12500000\n",
            "65000000\n"
          ]
        }
      ]
    },
    {
      "cell_type": "markdown",
      "source": [
        "Ekspedisi Pamanku\n"
      ],
      "metadata": {
        "id": "kd2bXvVx0lzA"
      }
    },
    {
      "cell_type": "code",
      "source": [
        "# Data\n",
        "uang_jalan = 1500000\n",
        "jumlah_hari = 31\n",
        "list_plat_nomor = [8993, 2198, 2501, 2735, 3772, 4837, 9152]\n",
        "# Pengecekan kendaraan dengan nomor pelat ganjil atau genap \n",
        "# Deklarasikan kendaraan_genap dan kendaraan_ganjil = 0\n",
        "kendaraan_genap = 0 \n",
        "kendaraan_ganjil = 0\n",
        "for plat_nomor in list_plat_nomor:\n",
        "    if plat_nomor % 2 == 0:\n",
        "        kendaraan_genap += 1\n",
        "    else:\n",
        "        kendaraan_ganjil += 1\n",
        "# Total pengeluaran untuk kendaraan dengan nomor pelat ganjil \n",
        "# dan genap dalam 1 bulan\n",
        "i = 1\n",
        "total_pengeluaran = 0\n",
        "while i <= jumlah_hari:\n",
        "    if i % 2 == 0:\n",
        "        total_pengeluaran += (kendaraan_genap * uang_jalan)\n",
        "    else:\n",
        "        total_pengeluaran += (kendaraan_ganjil * uang_jalan)\n",
        "    i += 1\n",
        "# Cetak total pengeluaran\n",
        "print(total_pengeluaran)"
      ],
      "metadata": {
        "colab": {
          "base_uri": "https://localhost:8080/"
        },
        "id": "aB00P9ug0qtQ",
        "outputId": "575af8e4-bcfe-4b37-e4ae-ba11850dc52d"
      },
      "execution_count": 32,
      "outputs": [
        {
          "output_type": "stream",
          "name": "stdout",
          "text": [
            "163500000\n"
          ]
        }
      ]
    }
  ]
}