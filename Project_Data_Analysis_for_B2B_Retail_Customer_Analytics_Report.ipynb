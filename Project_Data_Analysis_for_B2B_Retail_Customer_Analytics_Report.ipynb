{
  "nbformat": 4,
  "nbformat_minor": 0,
  "metadata": {
    "colab": {
      "provenance": [],
      "authorship_tag": "ABX9TyMS/Ql+5LcZGWTb5/nm7onv",
      "include_colab_link": true
    },
    "kernelspec": {
      "name": "python3",
      "display_name": "Python 3"
    },
    "language_info": {
      "name": "python"
    }
  },
  "cells": [
    {
      "cell_type": "markdown",
      "metadata": {
        "id": "view-in-github",
        "colab_type": "text"
      },
      "source": [
        "<a href=\"https://colab.research.google.com/github/ghamawell/silabus-pelatihan-data-Analyst/blob/main/Project_Data_Analysis_for_B2B_Retail_Customer_Analytics_Report.ipynb\" target=\"_parent\"><img src=\"https://colab.research.google.com/assets/colab-badge.svg\" alt=\"Open In Colab\"/></a>"
      ]
    },
    {
      "cell_type": "markdown",
      "source": [
        "Memahami table"
      ],
      "metadata": {
        "id": "IsrpGjyusPmi"
      }
    },
    {
      "cell_type": "code",
      "execution_count": null,
      "metadata": {
        "id": "P53rU9HfsETY"
      },
      "outputs": [],
      "source": [
        "SELECT * FROM orders_1 limit 5;\n",
        "SELECT * FROM orders_2 limit 5;\n",
        "SELECT * FROM customer limit 5;"
      ]
    },
    {
      "cell_type": "markdown",
      "source": [
        "Total Penjualan dan Revenue pada Quarter-1 (Jan, Feb, Mar) dan Quarter-2 (Apr,Mei,Jun)"
      ],
      "metadata": {
        "id": "qIWQtFDssUTh"
      }
    },
    {
      "cell_type": "code",
      "source": [
        "select sum(quantity) as total_penjualan,sum(quantity*priceeach) as revenue from orders_1;\n",
        "select sum(quantity) as total_penjualan,sum(quantity*priceeach) as revenue from orders_2 where status = 'Shipped';"
      ],
      "metadata": {
        "id": "hmSZ9HUSsbC1"
      },
      "execution_count": null,
      "outputs": []
    },
    {
      "cell_type": "markdown",
      "source": [
        "Menghitung persentasi keseluruhan penjualan"
      ],
      "metadata": {
        "id": "z7CY8uWdsiEJ"
      }
    },
    {
      "cell_type": "code",
      "source": [
        "select quarter,sum(quantity) as total_penjualan,sum(quantity*priceeach) as revenue from \n",
        "(select ordernumber,status,quantity,priceeach, 1 as quarter from orders_1\n",
        "UNION\n",
        "select ordernumber,status,quantity,priceeach, 2 as quarter from orders_2)\n",
        "as tabel_a where status = 'Shipped'\n",
        "group by quarter;"
      ],
      "metadata": {
        "id": "oBP5SVAUsiY_"
      },
      "execution_count": null,
      "outputs": []
    },
    {
      "cell_type": "markdown",
      "source": [
        "Apakah jumlah customers xyz.com semakin bertambah?"
      ],
      "metadata": {
        "id": "lJ9BuY5Islng"
      }
    },
    {
      "cell_type": "code",
      "source": [
        "select quarter(createdate) as quarter, count(distinct customerid) as total_customers from \n",
        "(select customerid,createdate,quarter(createdate) as quarter from customer where createdate between '2004-01-01' and '2004-06-30') as tabel_b\n",
        "group by quarter(createdate);"
      ],
      "metadata": {
        "id": "NAc8LQ-EstEv"
      },
      "execution_count": null,
      "outputs": []
    },
    {
      "cell_type": "markdown",
      "source": [
        "Seberapa banyak customers tersebut yang sudah melakukan transaksi?"
      ],
      "metadata": {
        "id": "9jxae2vVsuqb"
      }
    },
    {
      "cell_type": "code",
      "source": [
        "select quarter(createdate) as quarter, count(distinct customerid) as total_customers from \n",
        "(select customerid,createdate,quarter(createdate) as quarter from customer where createdate between '2004-01-01' and '2004-06-30' and customerid in \n",
        " (select distinct customerid from orders_1\n",
        "UNION\n",
        "select distinct customerid from orders_2)) as tabel_b\n",
        "group by quarter(createdate);"
      ],
      "metadata": {
        "id": "rhNGFW7osy6f"
      },
      "execution_count": null,
      "outputs": []
    },
    {
      "cell_type": "markdown",
      "source": [
        "Category produk apa saja yang paling banyak di-order oleh customers di Quarter-2?"
      ],
      "metadata": {
        "id": "NTA-lzqbs3lX"
      }
    },
    {
      "cell_type": "code",
      "source": [
        "select left(productcode,3) as categoryid,count(distinct ordernumber) as total_order,sum(quantity) as total_penjualan from \n",
        "(select productcode,ordernumber,quantity,status,left(productcode,3) as categoryid from orders_2 where status = \"Shipped\") tabel_c\n",
        "group by left(productcode,3)\n",
        "order by count(distinct ordernumber)desc;"
      ],
      "metadata": {
        "id": "0Z-_1LX9s4dl"
      },
      "execution_count": null,
      "outputs": []
    },
    {
      "cell_type": "markdown",
      "source": [
        "Seberapa banyak customers yang tetap aktif bertransaksi setelah transaksi pertamanya?"
      ],
      "metadata": {
        "id": "j_G3rx3Ls79-"
      }
    },
    {
      "cell_type": "code",
      "source": [
        "#Menghitung total unik customers yang transaksi di quarter_1\n",
        "SELECT COUNT(DISTINCT customerID) as total_customers FROM orders_1;\n",
        "#output = 25\n",
        "SELECT \"1\" as quarter, (COUNT(DISTINCT customerID)*100)/25 as q2 FROM orders_1 where customerid in (SELECT DISTINCT customerID FROM orders_2);"
      ],
      "metadata": {
        "id": "38_lVMwOtFZG"
      },
      "execution_count": null,
      "outputs": []
    },
    {
      "cell_type": "markdown",
      "source": [],
      "metadata": {
        "id": "_xdmk-0HtHhD"
      }
    }
  ]
}