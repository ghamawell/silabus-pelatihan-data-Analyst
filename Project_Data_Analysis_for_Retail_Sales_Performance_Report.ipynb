{
  "nbformat": 4,
  "nbformat_minor": 0,
  "metadata": {
    "colab": {
      "provenance": [],
      "authorship_tag": "ABX9TyO99AuPlOAcAKX0RifbveXF",
      "include_colab_link": true
    },
    "kernelspec": {
      "name": "python3",
      "display_name": "Python 3"
    },
    "language_info": {
      "name": "python"
    }
  },
  "cells": [
    {
      "cell_type": "markdown",
      "metadata": {
        "id": "view-in-github",
        "colab_type": "text"
      },
      "source": [
        "<a href=\"https://colab.research.google.com/github/ghamawell/silabus-pelatihan-data-Analyst/blob/main/Project_Data_Analysis_for_Retail_Sales_Performance_Report.ipynb\" target=\"_parent\"><img src=\"https://colab.research.google.com/assets/colab-badge.svg\" alt=\"Open In Colab\"/></a>"
      ]
    },
    {
      "cell_type": "markdown",
      "source": [
        "Overall Performance by Year"
      ],
      "metadata": {
        "id": "E3BTUaRBrNsh"
      }
    },
    {
      "cell_type": "code",
      "execution_count": null,
      "metadata": {
        "id": "ZQGBtSGLq7JH"
      },
      "outputs": [],
      "source": [
        "SELECT\n",
        "EXTRACT(YEAR FROM order_date) AS years,\n",
        "SUM(sales) AS sales,\n",
        "count(distinct order_id) as number_of_order\n",
        "from dqlab_sales_store\n",
        "where order_status = 'Order Finished'\n",
        "group by 1\n",
        "order by 1"
      ]
    },
    {
      "cell_type": "markdown",
      "source": [
        "Overall Performance by Product Sub Category"
      ],
      "metadata": {
        "id": "C0gDK5XQrSQ1"
      }
    },
    {
      "cell_type": "code",
      "source": [
        "SELECT \n",
        " YEAR(order_date) AS years, \n",
        " product_sub_category, \n",
        " SUM(sales) AS sales\n",
        "FROM dqlab_sales_store\n",
        "WHERE order_status = 'Order Finished'\n",
        " AND YEAR(order_date) > 2010\n",
        "GROUP BY years, product_sub_category\n",
        "ORDER BY years, sales DESC;"
      ],
      "metadata": {
        "id": "AKJidb24rWvQ"
      },
      "execution_count": null,
      "outputs": []
    },
    {
      "cell_type": "markdown",
      "source": [
        "Promotion Effectiveness and Efficiency by Years"
      ],
      "metadata": {
        "id": "PZanKGpVrb3K"
      }
    },
    {
      "cell_type": "code",
      "source": [
        "SELECT \n",
        " YEAR(order_date) AS years, \n",
        " SUM(sales) as sales, \n",
        " SUM(discount_value) AS promotion_value,\n",
        " ROUND((SUM(discount_value)/SUM(sales))*100,2) AS burn_rate_percentage\n",
        "FROM dqlab_sales_store\n",
        "WHERE order_status = 'Order Finished'\n",
        "GROUP BY years\n",
        "ORDER BY years;"
      ],
      "metadata": {
        "id": "XXVeKLoSrcQx"
      },
      "execution_count": null,
      "outputs": []
    },
    {
      "cell_type": "markdown",
      "source": [
        "Promotion Effectiveness and Efficiency by Product Sub Category"
      ],
      "metadata": {
        "id": "NGlhn_5VrjDd"
      }
    },
    {
      "cell_type": "code",
      "source": [
        "SELECT \n",
        " YEAR(order_date) as years, \n",
        " product_sub_category, \n",
        " product_category, \n",
        " SUM(sales) AS sales, \n",
        " SUM(discount_value) AS promotion_value, \n",
        " ROUND((SUM(discount_value)/SUM(sales))*100,2) AS burn_rate_percentage\n",
        "FROM dqlab_sales_store\n",
        "WHERE order_status = 'Order Finished'\n",
        " AND YEAR(order_date) = 2012\n",
        "GROUP BY \n",
        " years, \n",
        " product_sub_category, \n",
        " product_category\n",
        "ORDER by sales DESC;"
      ],
      "metadata": {
        "id": "060J9lwXrjeO"
      },
      "execution_count": null,
      "outputs": []
    },
    {
      "cell_type": "markdown",
      "source": [
        "Customers Transactions per Year"
      ],
      "metadata": {
        "id": "MhALniyJrk3A"
      }
    },
    {
      "cell_type": "code",
      "source": [
        "SELECT \n",
        " YEAR(order_date) AS years, \n",
        " COUNT(DISTINCT customer) AS number_of_customer\n",
        "FROM dqlab_sales_store\n",
        "WHERE order_status = 'Order Finished'\n",
        "GROUP BY years\n",
        "ORDER BY years;"
      ],
      "metadata": {
        "id": "AlM5aChLrpsU"
      },
      "execution_count": null,
      "outputs": []
    }
  ]
}